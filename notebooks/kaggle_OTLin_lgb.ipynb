{
 "cells": [
  {
   "cell_type": "code",
   "execution_count": null,
   "metadata": {},
   "outputs": [],
   "source": [
    "import os\n",
    "import sys\n",
    "sys.path.append(\"../src/\")\n",
    "sys.path.append(\"../model/\")"
   ]
  },
  {
   "cell_type": "code",
   "execution_count": null,
   "metadata": {},
   "outputs": [],
   "source": [
    "import numpy as np\n",
    "import torch\n",
    "import ot\n",
    "\n",
    "from io_utils import load_dataset, load_model, model_log\n",
    "from metric import performance_logloss, performance_pr_auc\n",
    "\n",
    "from labelshift_correction import build_pivot_dataset, adjust_model\n",
    "from train_utils import sample_validation_data"
   ]
  },
  {
   "cell_type": "markdown",
   "metadata": {},
   "source": [
    "### Setting"
   ]
  },
  {
   "cell_type": "code",
   "execution_count": null,
   "metadata": {},
   "outputs": [],
   "source": [
    "# model_type = \"nn\" # for NN models\n",
    "model_type = \"lgb\" # for GBDT models\n",
    "\n",
    "# number of threads\n",
    "njobs = 20"
   ]
  },
  {
   "cell_type": "markdown",
   "metadata": {},
   "source": [
    "### Adaptation"
   ]
  },
  {
   "cell_type": "code",
   "execution_count": null,
   "metadata": {},
   "outputs": [],
   "source": [
    "source_version = \"opt\" # the version of embedding matrix & prediction model that we use\n",
    "task = \"kaggle\"\n",
    "data_type = \"cate\"\n",
    "num_dim = 43\n",
    "period = [0, 1, 2, 3]\n",
    "cate_index = 8\n",
    "source_domain = \"source\"\n",
    "target_domain = \"target\"\n",
    "number_example = 2000\n",
    "\n",
    "version = \"linear_kernel_ot2000\"\n",
    "\n",
    "for seed in range(10):\n",
    "    for p in period:\n",
    "        torch.manual_seed(seed)\n",
    "        np.random.seed(seed)\n",
    "\n",
    "        print(\"Period:\", p, seed, flush=True)\n",
    "        model = load_model(\"../model/\", task, source_domain, model_type, p, source_version)\n",
    "        source_train, source_train_label, source_test, source_test_label = load_dataset(\"../data/\", \n",
    "                                                                                        task, source_domain, data_type, p)\n",
    "        target_train, target_train_label, target_test, target_test_label = load_dataset(\"../data/\", \n",
    "                                                                                        task, target_domain, data_type, p)\n",
    "\n",
    "        # get target_factor and source_factor\n",
    "        target_factor = (target_train_label[:, 1]==0).sum() / target_train_label[:, 1].sum()\n",
    "        source_factor = (source_train_label[:, 1]==0).sum() / source_train_label[:, 1].sum()\n",
    "\n",
    "        # adjusting the classifier\n",
    "        model = adjust_model(model, target_factor, source_factor)\n",
    "\n",
    "        # adjusting source train dataset\n",
    "        source_train, source_train_label, source_index = build_pivot_dataset(\n",
    "            source_train, source_train_label[:,1], target_factor, source_factor)\n",
    "        \n",
    "        # source and target datat undersampling\n",
    "        source_train_index, _ = sample_validation_data(task, source_train_label, number_examples=number_example)\n",
    "        source_train = source_train[source_train_index]\n",
    "        \n",
    "        target_train_index, _ = sample_validation_data(task, target_train_label, number_examples=number_example)\n",
    "        target_train = target_train[target_train_index]\n",
    "\n",
    "        # split categorical data and\n",
    "        target_train_cate = target_train[:, :cate_index]\n",
    "        target_train_num = target_train[:, cate_index:]\n",
    "        source_train_cate = source_train[:, :cate_index]\n",
    "        source_train_num = source_train[:, cate_index:]\n",
    "        target_test_cate = target_test[:, :cate_index]\n",
    "        target_test_num = target_test[:, cate_index:]\n",
    "        \n",
    "        # fit numerical data\n",
    "        ot_mapping_linear = ot.da.MappingTransport(\n",
    "            kernel=\"linear\", mu=1e0, eta=1e-8, bias=True,\n",
    "            max_iter=20, tol=1e-4, verbose=True)\n",
    "        ot_mapping_linear.fit(Xs=target_train_num, Xt=source_train_num)\n",
    "\n",
    "        # transform target_test_num\n",
    "        target_test_num_trans = ot_mapping_linear.transform(target_test_num)\n",
    "        target_test_trans = np.c_[target_test_cate, target_test_num_trans]\n",
    "        \n",
    "        # prediction and save log\n",
    "        path = os.path.join(\"./results\", task, version, \n",
    "                     \"{}_{}\".format(model_type, source_version), \n",
    "                     \"period{}\".format(p), \"exp{}\".format(seed))\n",
    "        if not os.path.exists(path):\n",
    "            os.makedirs(path)\n",
    "\n",
    "        pred = model.predict(target_test_trans)\n",
    "        np.save(os.path.join(path, \"target_test_pred\"), pred)\n",
    "\n",
    "        perf = performance_pr_auc(pred, target_test_label[:, 1])\n",
    "        model_log(\"../logs/pr_auc/\", task, source_domain, model_type, p, source_version, \n",
    "                 \"{}: {}\".format(version, perf))\n",
    "        print(\"Target Prediction pr_auc\", perf, flush=True)\n",
    "\n",
    "        perf = performance_logloss(pred, target_test_label[:, 1])\n",
    "        model_log(\"../logs/logloss/\", task, source_domain, model_type, p, source_version, \n",
    "                 \"{}: {}\".format(version, perf))\n",
    "        print(\"Target Prediction logloss\", perf, flush=True)"
   ]
  },
  {
   "cell_type": "code",
   "execution_count": null,
   "metadata": {},
   "outputs": [],
   "source": []
  }
 ],
 "metadata": {
  "kernelspec": {
   "display_name": "Python 3",
   "language": "python",
   "name": "python3"
  },
  "language_info": {
   "codemirror_mode": {
    "name": "ipython",
    "version": 3
   },
   "file_extension": ".py",
   "mimetype": "text/x-python",
   "name": "python",
   "nbconvert_exporter": "python",
   "pygments_lexer": "ipython3",
   "version": "3.6.8"
  }
 },
 "nbformat": 4,
 "nbformat_minor": 4
}
