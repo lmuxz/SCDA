{
 "cells": [
  {
   "cell_type": "code",
   "execution_count": null,
   "metadata": {},
   "outputs": [],
   "source": [
    "import os\n",
    "import sys\n",
    "\n",
    "sys.path.append(\"../src/\")\n",
    "sys.path.append(\"../model/\")"
   ]
  },
  {
   "cell_type": "code",
   "execution_count": null,
   "metadata": {},
   "outputs": [],
   "source": [
    "import numpy as np\n",
    "import torch\n",
    "import ot\n",
    "\n",
    "from io_utils import load_dataset, load_model, model_log\n",
    "from metric import performance_logloss, performance_acc\n",
    "\n",
    "from labelshift_correction import build_pivot_dataset, adjust_model\n",
    "from train_utils import sample_validation_data"
   ]
  },
  {
   "cell_type": "markdown",
   "metadata": {},
   "source": [
    "### Setting"
   ]
  },
  {
   "cell_type": "code",
   "execution_count": null,
   "metadata": {},
   "outputs": [],
   "source": [
    "version = \"linear_kernel_ot\"\n",
    "\n",
    "source_version = \"opt\" # the version of embedding matrix & prediction model that we use\n",
    "\n",
    "task = \"amazon\"\n",
    "data_type = \"msda\"\n",
    "dim = 400"
   ]
  },
  {
   "cell_type": "markdown",
   "metadata": {},
   "source": [
    "### Adaptation"
   ]
  },
  {
   "cell_type": "code",
   "execution_count": null,
   "metadata": {
    "scrolled": true
   },
   "outputs": [],
   "source": [
    "for seed in range(10):\n",
    "    for model_domain in [\"books\", \"dvd\", \"elec\", \"kitchen\"]:\n",
    "        for data_domain in [\"books\", \"dvd\", \"elec\", \"kitchen\"]:\n",
    "            if data_domain != model_domain:\n",
    "                torch.manual_seed(seed)\n",
    "                np.random.seed(seed)\n",
    "\n",
    "                source_train, source_train_label, source_test, source_test_label = load_dataset(\"../data/\", \n",
    "                                                                                        task, model_domain, data_type, dim)\n",
    "                target_train, target_train_label, target_test, target_test_label = load_dataset(\"../data/\", \n",
    "                                                                                        task, data_domain, data_type, dim)\n",
    "                \n",
    "                \n",
    "                # fit numerical data\n",
    "                ot_mapping_linear = ot.da.MappingTransport(\n",
    "                    kernel=\"linear\", mu=1e0, eta=1e-8, bias=True, metric=\"cosine\",\n",
    "                    max_iter=20, tol=1e-4, verbose=True)\n",
    "                ot_mapping_linear.fit(Xs=target_train, Xt=source_train)\n",
    "\n",
    "                # transform target_test_num\n",
    "                target_test_trans = ot_mapping_linear.transform(target_test)\n",
    "\n",
    "\n",
    "                for model_type in [\"nn\", \"lgb\"]:\n",
    "                    model = load_model(\"../model/\", task, model_domain, model_type, dim, source_version)\n",
    "\n",
    "                    # prediction and save log\n",
    "                    path = os.path.join(\"./results\", task, version, \n",
    "                                 \"{}_{}\".format(model_type, source_version), \n",
    "                                 model_domain, data_domain, \"exp{}\".format(seed))\n",
    "                    if not os.path.exists(path):\n",
    "                        os.makedirs(path)\n",
    "\n",
    "                    pred = model.predict(target_test_trans)\n",
    "                    np.save(os.path.join(path, \"target_test_pred\"), pred)\n",
    "\n",
    "                    perf = performance_logloss(pred, target_test_label)\n",
    "                    model_log(\"../logs/logloss/\", task, model_domain, model_type, dim, source_version, \n",
    "                             \"{};{}: {}\".format(version, data_domain, perf))\n",
    "                    print(\"Prediction logloss\", model_domain, data_domain, perf, flush=True)\n",
    "\n",
    "                    perf = performance_acc(pred, target_test_label)\n",
    "                    model_log(\"../logs/acc/\", task, model_domain, model_type, dim, source_version, \n",
    "                             \"{};{}: {}\".format(version, data_domain, perf))\n",
    "                    print(\"Prediction accuracy\", model_domain, data_domain, perf, flush=True)"
   ]
  },
  {
   "cell_type": "code",
   "execution_count": null,
   "metadata": {},
   "outputs": [],
   "source": []
  }
 ],
 "metadata": {
  "kernelspec": {
   "display_name": "Python 3",
   "language": "python",
   "name": "python3"
  },
  "language_info": {
   "codemirror_mode": {
    "name": "ipython",
    "version": 3
   },
   "file_extension": ".py",
   "mimetype": "text/x-python",
   "name": "python",
   "nbconvert_exporter": "python",
   "pygments_lexer": "ipython3",
   "version": "3.6.8"
  }
 },
 "nbformat": 4,
 "nbformat_minor": 4
}
