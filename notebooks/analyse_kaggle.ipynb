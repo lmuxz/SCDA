{
 "cells": [
  {
   "cell_type": "code",
   "execution_count": null,
   "metadata": {},
   "outputs": [],
   "source": [
    "import os\n",
    "import sys\n",
    "import warnings\n",
    "\n",
    "sys.path.append(\"../src/\")\n",
    "sys.path.append(\"../model/\")\n",
    "warnings.filterwarnings('ignore')"
   ]
  },
  {
   "cell_type": "code",
   "execution_count": null,
   "metadata": {},
   "outputs": [],
   "source": [
    "import numpy as np\n",
    "import pandas as pd\n",
    "\n",
    "import matplotlib.pyplot as plt\n",
    "\n",
    "from io_utils import load_dataset, save_model, model_log, load_model\n",
    "from metric import load_kaggle_logs, analyse_kaggle"
   ]
  },
  {
   "cell_type": "markdown",
   "metadata": {},
   "source": [
    "### Kaggle"
   ]
  },
  {
   "cell_type": "code",
   "execution_count": null,
   "metadata": {},
   "outputs": [],
   "source": [
    "# model_type = \"lgb\"\n",
    "model_type = \"nn\"\n",
    "\n",
    "metric = \"logloss\"\n",
    "# metric = \"pr_auc\""
   ]
  },
  {
   "cell_type": "code",
   "execution_count": null,
   "metadata": {},
   "outputs": [],
   "source": [
    "exp = [\n",
    "    \"supervised_feature_selection\",\n",
    "    \"target_dann\",\n",
    "    \"target_dan\",\n",
    "    \"target_mcd\",\n",
    "    \"coral\",\n",
    "    \"linear_kernel_ot2000\",\n",
    "    \"all_adaptation\",\n",
    "    \"scda\",\n",
    "    \"scda2000\",\n",
    "]\n",
    "\n",
    "sticks = [\n",
    "    \"SUPERVISED\",\n",
    "    \"DANN\",\n",
    "    \"DAN\",\n",
    "    \"MCD\",\n",
    "    \"CORAL\",\n",
    "    \"OTLin\",\n",
    "    \"CDA\",\n",
    "    \"SCDA\",\n",
    "    \"SCDA(2K)\"\n",
    "]"
   ]
  },
  {
   "cell_type": "markdown",
   "metadata": {},
   "source": [
    "### Analyse"
   ]
  },
  {
   "cell_type": "code",
   "execution_count": null,
   "metadata": {},
   "outputs": [],
   "source": [
    "analyse_kaggle(model_type, metric, exp, sticks)"
   ]
  },
  {
   "cell_type": "code",
   "execution_count": null,
   "metadata": {},
   "outputs": [],
   "source": []
  }
 ],
 "metadata": {
  "kernelspec": {
   "display_name": "Python 3",
   "language": "python",
   "name": "python3"
  },
  "language_info": {
   "codemirror_mode": {
    "name": "ipython",
    "version": 3
   },
   "file_extension": ".py",
   "mimetype": "text/x-python",
   "name": "python",
   "nbconvert_exporter": "python",
   "pygments_lexer": "ipython3",
   "version": "3.6.8"
  }
 },
 "nbformat": 4,
 "nbformat_minor": 2
}
